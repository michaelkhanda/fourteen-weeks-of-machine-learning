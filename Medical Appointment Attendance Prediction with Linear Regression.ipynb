{
 "cells": [
  {
   "cell_type": "markdown",
   "id": "8470a127",
   "metadata": {},
   "source": [
    "# Medical Appointment Attendance Prediction with Linear Regression\n",
    "\n",
    "Create a Linear Model for the following Dataset:\n",
    "\n",
    "Download the following dataset (from Kaggle) with 110.527 medical appointments and 14 associated variables (characteristics). Use it to create models that can predict whether a patient will show up for the appointment booked or not.\n",
    "\n",
    "Here is the [link](https://www.kaggle.com/datasets/joniarroba/noshowappointments) to the dataset.\n",
    "\n",
    "## Step 1: Import necessary libraries"
   ]
  },
  {
   "cell_type": "code",
   "execution_count": 1,
   "id": "3e025e2f",
   "metadata": {},
   "outputs": [],
   "source": [
    "from sklearn.model_selection import train_test_split\n",
    "from sklearn.linear_model import LogisticRegression\n",
    "from sklearn.preprocessing import LabelEncoder\n",
    "import pandas as pd\n",
    "import matplotlib.pyplot as plt\n",
    "import warnings\n",
    "warnings.simplefilter(action='ignore', category=FutureWarning)"
   ]
  },
  {
   "cell_type": "markdown",
   "id": "f87e31b5",
   "metadata": {},
   "source": [
    "## Step 2: Load the dataset\n",
    "\n",
    "- Read the KaggleV2-May-2016.csv file into pandas and assign it to the variable name medicalAppointmentNoShows\n",
    "- Use the `DataFrame.info()` and `DataFrame.head()` methods to print information about the `medicalAppointmentNoShows` dataframe as well as the first few rows."
   ]
  },
  {
   "cell_type": "code",
   "execution_count": 2,
   "id": "208d2f6a",
   "metadata": {},
   "outputs": [
    {
     "name": "stdout",
     "output_type": "stream",
     "text": [
      "<class 'pandas.core.frame.DataFrame'>\n",
      "RangeIndex: 110527 entries, 0 to 110526\n",
      "Data columns (total 14 columns):\n",
      " #   Column          Non-Null Count   Dtype  \n",
      "---  ------          --------------   -----  \n",
      " 0   PatientId       110527 non-null  float64\n",
      " 1   AppointmentID   110527 non-null  int64  \n",
      " 2   Gender          110527 non-null  object \n",
      " 3   ScheduledDay    110527 non-null  object \n",
      " 4   AppointmentDay  110527 non-null  object \n",
      " 5   Age             110527 non-null  int64  \n",
      " 6   Neighbourhood   110527 non-null  object \n",
      " 7   Scholarship     110527 non-null  int64  \n",
      " 8   Hipertension    110527 non-null  int64  \n",
      " 9   Diabetes        110527 non-null  int64  \n",
      " 10  Alcoholism      110527 non-null  int64  \n",
      " 11  Handcap         110527 non-null  int64  \n",
      " 12  SMS_received    110527 non-null  int64  \n",
      " 13  No-show         110527 non-null  object \n",
      "dtypes: float64(1), int64(8), object(5)\n",
      "memory usage: 11.8+ MB\n"
     ]
    },
    {
     "data": {
      "text/html": [
       "<div>\n",
       "<style scoped>\n",
       "    .dataframe tbody tr th:only-of-type {\n",
       "        vertical-align: middle;\n",
       "    }\n",
       "\n",
       "    .dataframe tbody tr th {\n",
       "        vertical-align: top;\n",
       "    }\n",
       "\n",
       "    .dataframe thead th {\n",
       "        text-align: right;\n",
       "    }\n",
       "</style>\n",
       "<table border=\"1\" class=\"dataframe\">\n",
       "  <thead>\n",
       "    <tr style=\"text-align: right;\">\n",
       "      <th></th>\n",
       "      <th>PatientId</th>\n",
       "      <th>AppointmentID</th>\n",
       "      <th>Gender</th>\n",
       "      <th>ScheduledDay</th>\n",
       "      <th>AppointmentDay</th>\n",
       "      <th>Age</th>\n",
       "      <th>Neighbourhood</th>\n",
       "      <th>Scholarship</th>\n",
       "      <th>Hipertension</th>\n",
       "      <th>Diabetes</th>\n",
       "      <th>Alcoholism</th>\n",
       "      <th>Handcap</th>\n",
       "      <th>SMS_received</th>\n",
       "      <th>No-show</th>\n",
       "    </tr>\n",
       "  </thead>\n",
       "  <tbody>\n",
       "    <tr>\n",
       "      <th>0</th>\n",
       "      <td>2.987250e+13</td>\n",
       "      <td>5642903</td>\n",
       "      <td>F</td>\n",
       "      <td>2016-04-29T18:38:08Z</td>\n",
       "      <td>2016-04-29T00:00:00Z</td>\n",
       "      <td>62</td>\n",
       "      <td>JARDIM DA PENHA</td>\n",
       "      <td>0</td>\n",
       "      <td>1</td>\n",
       "      <td>0</td>\n",
       "      <td>0</td>\n",
       "      <td>0</td>\n",
       "      <td>0</td>\n",
       "      <td>No</td>\n",
       "    </tr>\n",
       "    <tr>\n",
       "      <th>1</th>\n",
       "      <td>5.589978e+14</td>\n",
       "      <td>5642503</td>\n",
       "      <td>M</td>\n",
       "      <td>2016-04-29T16:08:27Z</td>\n",
       "      <td>2016-04-29T00:00:00Z</td>\n",
       "      <td>56</td>\n",
       "      <td>JARDIM DA PENHA</td>\n",
       "      <td>0</td>\n",
       "      <td>0</td>\n",
       "      <td>0</td>\n",
       "      <td>0</td>\n",
       "      <td>0</td>\n",
       "      <td>0</td>\n",
       "      <td>No</td>\n",
       "    </tr>\n",
       "    <tr>\n",
       "      <th>2</th>\n",
       "      <td>4.262962e+12</td>\n",
       "      <td>5642549</td>\n",
       "      <td>F</td>\n",
       "      <td>2016-04-29T16:19:04Z</td>\n",
       "      <td>2016-04-29T00:00:00Z</td>\n",
       "      <td>62</td>\n",
       "      <td>MATA DA PRAIA</td>\n",
       "      <td>0</td>\n",
       "      <td>0</td>\n",
       "      <td>0</td>\n",
       "      <td>0</td>\n",
       "      <td>0</td>\n",
       "      <td>0</td>\n",
       "      <td>No</td>\n",
       "    </tr>\n",
       "    <tr>\n",
       "      <th>3</th>\n",
       "      <td>8.679512e+11</td>\n",
       "      <td>5642828</td>\n",
       "      <td>F</td>\n",
       "      <td>2016-04-29T17:29:31Z</td>\n",
       "      <td>2016-04-29T00:00:00Z</td>\n",
       "      <td>8</td>\n",
       "      <td>PONTAL DE CAMBURI</td>\n",
       "      <td>0</td>\n",
       "      <td>0</td>\n",
       "      <td>0</td>\n",
       "      <td>0</td>\n",
       "      <td>0</td>\n",
       "      <td>0</td>\n",
       "      <td>No</td>\n",
       "    </tr>\n",
       "    <tr>\n",
       "      <th>4</th>\n",
       "      <td>8.841186e+12</td>\n",
       "      <td>5642494</td>\n",
       "      <td>F</td>\n",
       "      <td>2016-04-29T16:07:23Z</td>\n",
       "      <td>2016-04-29T00:00:00Z</td>\n",
       "      <td>56</td>\n",
       "      <td>JARDIM DA PENHA</td>\n",
       "      <td>0</td>\n",
       "      <td>1</td>\n",
       "      <td>1</td>\n",
       "      <td>0</td>\n",
       "      <td>0</td>\n",
       "      <td>0</td>\n",
       "      <td>No</td>\n",
       "    </tr>\n",
       "  </tbody>\n",
       "</table>\n",
       "</div>"
      ],
      "text/plain": [
       "      PatientId  AppointmentID Gender          ScheduledDay  \\\n",
       "0  2.987250e+13        5642903      F  2016-04-29T18:38:08Z   \n",
       "1  5.589978e+14        5642503      M  2016-04-29T16:08:27Z   \n",
       "2  4.262962e+12        5642549      F  2016-04-29T16:19:04Z   \n",
       "3  8.679512e+11        5642828      F  2016-04-29T17:29:31Z   \n",
       "4  8.841186e+12        5642494      F  2016-04-29T16:07:23Z   \n",
       "\n",
       "         AppointmentDay  Age      Neighbourhood  Scholarship  Hipertension  \\\n",
       "0  2016-04-29T00:00:00Z   62    JARDIM DA PENHA            0             1   \n",
       "1  2016-04-29T00:00:00Z   56    JARDIM DA PENHA            0             0   \n",
       "2  2016-04-29T00:00:00Z   62      MATA DA PRAIA            0             0   \n",
       "3  2016-04-29T00:00:00Z    8  PONTAL DE CAMBURI            0             0   \n",
       "4  2016-04-29T00:00:00Z   56    JARDIM DA PENHA            0             1   \n",
       "\n",
       "   Diabetes  Alcoholism  Handcap  SMS_received No-show  \n",
       "0         0           0        0             0      No  \n",
       "1         0           0        0             0      No  \n",
       "2         0           0        0             0      No  \n",
       "3         0           0        0             0      No  \n",
       "4         1           0        0             0      No  "
      ]
     },
     "execution_count": 2,
     "metadata": {},
     "output_type": "execute_result"
    }
   ],
   "source": [
    "medicalAppointmentNoShows = pd.read_csv(\"KaggleV2-May-2016.csv\")\n",
    "medicalAppointmentNoShows.info()\n",
    "medicalAppointmentNoShows.head()"
   ]
  },
  {
   "cell_type": "markdown",
   "id": "f5c75358",
   "metadata": {},
   "source": [
    "## Step 2: Preprocess the Dataset\n",
    "\n",
    "Drop the unnecessary columns. Specify the list of unnecessary columns to drop"
   ]
  },
  {
   "cell_type": "code",
   "execution_count": 3,
   "id": "5df29220",
   "metadata": {},
   "outputs": [],
   "source": [
    "# Specify the list of unnecessary columns to drop\n",
    "unnecessary_columns = ['PatientId', 'AppointmentID', 'ScheduledDay', 'AppointmentDay', 'Neighbourhood']\n",
    "\n",
    "# Drop the unnecessary columns from the DataFrame\n",
    "medicalAppointmentNoShows = medicalAppointmentNoShows.drop(unnecessary_columns, axis=1)\n",
    "\n",
    "# Drop rows with missing values\n",
    "medicalAppointmentNoShows = medicalAppointmentNoShows.dropna()"
   ]
  },
  {
   "cell_type": "markdown",
   "id": "85eaa706",
   "metadata": {},
   "source": [
    "###### Encode the categorical target variable\n",
    "\n",
    "The categorical target variable `No-show` and `Gender` is encoded using the LabelEncoder from the sklearn.preprocessing module. This step ensures that the target variable is represented as numeric values `(0 and 1)` instead of string labels."
   ]
  },
  {
   "cell_type": "code",
   "execution_count": 4,
   "id": "abf48b0f",
   "metadata": {},
   "outputs": [],
   "source": [
    "label_encoder = LabelEncoder()\n",
    "medicalAppointmentNoShows['No-show'] = label_encoder.fit_transform(medicalAppointmentNoShows['No-show'])\n",
    "medicalAppointmentNoShows['Gender'] = label_encoder.fit_transform(medicalAppointmentNoShows['Gender'])"
   ]
  },
  {
   "cell_type": "code",
   "execution_count": 5,
   "id": "c444ccb2",
   "metadata": {},
   "outputs": [
    {
     "data": {
      "text/html": [
       "<div>\n",
       "<style scoped>\n",
       "    .dataframe tbody tr th:only-of-type {\n",
       "        vertical-align: middle;\n",
       "    }\n",
       "\n",
       "    .dataframe tbody tr th {\n",
       "        vertical-align: top;\n",
       "    }\n",
       "\n",
       "    .dataframe thead th {\n",
       "        text-align: right;\n",
       "    }\n",
       "</style>\n",
       "<table border=\"1\" class=\"dataframe\">\n",
       "  <thead>\n",
       "    <tr style=\"text-align: right;\">\n",
       "      <th></th>\n",
       "      <th>Gender</th>\n",
       "      <th>Age</th>\n",
       "      <th>Scholarship</th>\n",
       "      <th>Hipertension</th>\n",
       "      <th>Diabetes</th>\n",
       "      <th>Alcoholism</th>\n",
       "      <th>Handcap</th>\n",
       "      <th>SMS_received</th>\n",
       "      <th>No-show</th>\n",
       "    </tr>\n",
       "  </thead>\n",
       "  <tbody>\n",
       "    <tr>\n",
       "      <th>0</th>\n",
       "      <td>0</td>\n",
       "      <td>62</td>\n",
       "      <td>0</td>\n",
       "      <td>1</td>\n",
       "      <td>0</td>\n",
       "      <td>0</td>\n",
       "      <td>0</td>\n",
       "      <td>0</td>\n",
       "      <td>0</td>\n",
       "    </tr>\n",
       "    <tr>\n",
       "      <th>1</th>\n",
       "      <td>1</td>\n",
       "      <td>56</td>\n",
       "      <td>0</td>\n",
       "      <td>0</td>\n",
       "      <td>0</td>\n",
       "      <td>0</td>\n",
       "      <td>0</td>\n",
       "      <td>0</td>\n",
       "      <td>0</td>\n",
       "    </tr>\n",
       "    <tr>\n",
       "      <th>2</th>\n",
       "      <td>0</td>\n",
       "      <td>62</td>\n",
       "      <td>0</td>\n",
       "      <td>0</td>\n",
       "      <td>0</td>\n",
       "      <td>0</td>\n",
       "      <td>0</td>\n",
       "      <td>0</td>\n",
       "      <td>0</td>\n",
       "    </tr>\n",
       "    <tr>\n",
       "      <th>3</th>\n",
       "      <td>0</td>\n",
       "      <td>8</td>\n",
       "      <td>0</td>\n",
       "      <td>0</td>\n",
       "      <td>0</td>\n",
       "      <td>0</td>\n",
       "      <td>0</td>\n",
       "      <td>0</td>\n",
       "      <td>0</td>\n",
       "    </tr>\n",
       "    <tr>\n",
       "      <th>4</th>\n",
       "      <td>0</td>\n",
       "      <td>56</td>\n",
       "      <td>0</td>\n",
       "      <td>1</td>\n",
       "      <td>1</td>\n",
       "      <td>0</td>\n",
       "      <td>0</td>\n",
       "      <td>0</td>\n",
       "      <td>0</td>\n",
       "    </tr>\n",
       "  </tbody>\n",
       "</table>\n",
       "</div>"
      ],
      "text/plain": [
       "   Gender  Age  Scholarship  Hipertension  Diabetes  Alcoholism  Handcap  \\\n",
       "0       0   62            0             1         0           0        0   \n",
       "1       1   56            0             0         0           0        0   \n",
       "2       0   62            0             0         0           0        0   \n",
       "3       0    8            0             0         0           0        0   \n",
       "4       0   56            0             1         1           0        0   \n",
       "\n",
       "   SMS_received  No-show  \n",
       "0             0        0  \n",
       "1             0        0  \n",
       "2             0        0  \n",
       "3             0        0  \n",
       "4             0        0  "
      ]
     },
     "execution_count": 5,
     "metadata": {},
     "output_type": "execute_result"
    }
   ],
   "source": [
    "medicalAppointmentNoShows.head()"
   ]
  },
  {
   "cell_type": "markdown",
   "id": "e05aa3d9",
   "metadata": {},
   "source": [
    "## Step 3: Split the Dataset\n",
    "\n",
    "Split the dataset into features (X) and target variable (y)\n",
    "\n",
    "Random Seed `(random_state)`:\n",
    "\n",
    "- The random seed is used to ensure reproducibility. Setting a specific random seed will result in the same train-test split every time you run the code.\n",
    "If you want consistent results, you can set the random seed to a fixed value, such as 42.\n",
    "If you don't require consistent results and want a different train-test split each time you run the code, you can omit setting the random seed.\n",
    "\n",
    "Test Size `(test_size)`:\n",
    "\n",
    "- The test size determines the proportion of the dataset that will be allocated for testing. It is typically specified as a float value between 0 and 1, representing the percentage of the dataset to be used for testing.\n",
    "- The choice of test size depends on the size of your dataset and the desired balance between the training and testing sets.\n",
    "- A common practice is to use a test size of around 0.2 to 0.3, meaning 20% to 30% of the data will be used for testing. This leaves the majority of the data for training the model.\n",
    "- If you have a large dataset, you can afford to allocate a smaller test size. Conversely, if you have a small dataset, you might want to allocate a larger test size to ensure a representative evaluation.\n",
    "- It's important to strike a balance between having enough data for training and having enough data for testing to obtain reliable performance metrics."
   ]
  },
  {
   "cell_type": "code",
   "execution_count": 6,
   "id": "ac9c2533",
   "metadata": {},
   "outputs": [],
   "source": [
    "X = medicalAppointmentNoShows.drop('No-show', axis=1)\n",
    "y = medicalAppointmentNoShows['No-show']\n",
    "X_train, X_test, y_train, y_test = train_test_split(X, y, test_size=0.3, random_state=42)"
   ]
  },
  {
   "cell_type": "markdown",
   "id": "776d7fca",
   "metadata": {},
   "source": [
    "## Step 4: Train the Logistic Regression Model\n",
    "\n",
    "Train the Logistic Regression Model using the fit() method:"
   ]
  },
  {
   "cell_type": "code",
   "execution_count": 7,
   "id": "85515b41",
   "metadata": {},
   "outputs": [
    {
     "data": {
      "text/plain": [
       "LogisticRegression()"
      ]
     },
     "execution_count": 7,
     "metadata": {},
     "output_type": "execute_result"
    }
   ],
   "source": [
    "model = LogisticRegression()\n",
    "model.fit(X_train, y_train)"
   ]
  },
  {
   "cell_type": "markdown",
   "id": "63f75823",
   "metadata": {},
   "source": [
    "## Step 5: Make Predictions and Evaluate the Model"
   ]
  },
  {
   "cell_type": "code",
   "execution_count": 8,
   "id": "b8d9e4b8",
   "metadata": {},
   "outputs": [
    {
     "name": "stdout",
     "output_type": "stream",
     "text": [
      "Predictions:\n",
      "[0 0 0 0 0 0 0 0 0 0]\n",
      "\n",
      "Final test set predictions: [0 0 0 ... 0 0 0]\n",
      "Final test set accuracy: 0.7999336530052172\n"
     ]
    }
   ],
   "source": [
    "# Make predictions on the test set\n",
    "prediction = model.predict(X_test)\n",
    "\n",
    "# Print the first few predictions\n",
    "print(\"Predictions:\")\n",
    "print(prediction[:10])\n",
    "\n",
    "# Evaluate the model\n",
    "accuracy = model.score(X_test, y_test)\n",
    "\n",
    "print()\n",
    "\n",
    "# Print evaluation metrics\n",
    "print(\"Final test set predictions:\", prediction)\n",
    "print(\"Final test set accuracy:\", accuracy)"
   ]
  },
  {
   "cell_type": "markdown",
   "id": "4b1fe742",
   "metadata": {},
   "source": [
    "An accuracy of `100%` would indicate that the model predicted all instances in the test set correctly, which would be considered `perfect`. In this case, the model achieved an accuracy of around `79.99%`, indicating that it correctly predicted the outcome for approximately 79.99% of the instances in the test set."
   ]
  },
  {
   "cell_type": "markdown",
   "id": "9bf390db",
   "metadata": {},
   "source": [
    "## Step 6: Visual Inspection"
   ]
  },
  {
   "cell_type": "code",
   "execution_count": 9,
   "id": "0f3ece27",
   "metadata": {},
   "outputs": [
    {
     "data": {
      "image/png": "[encoded data removed]",
      "text/plain": [
       "<Figure size 640x480 with 1 Axes>"
      ]
     },
     "metadata": {},
     "output_type": "display_data"
    },
    {
     "name": "stdout",
     "output_type": "stream",
     "text": [
      "Final test set predictions: [0 0 0 ... 0 0 0]\n",
      "Final test set accuracy: 0.7999336530052172\n"
     ]
    }
   ],
   "source": [
    "predicted_counts = pd.Series(prediction).value_counts()\n",
    "labels = predicted_counts.index.tolist()\n",
    "\n",
    "plt.plot(labels, predicted_counts, marker='o')\n",
    "plt.xlabel(\"Prediction\")\n",
    "plt.ylabel(\"Count\")\n",
    "plt.title(\"Distribution of Predicted Values\")\n",
    "plt.legend(['No', 'Yes'])\n",
    "plt.show()\n",
    "\n",
    "# Print evaluation metrics\n",
    "print(\"Final test set predictions:\", prediction)\n",
    "print(\"Final test set accuracy:\", accuracy)"
   ]
  }
 ],
 "metadata": {
  "kernelspec": {
   "display_name": "Python 3 (ipykernel)",
   "language": "python",
   "name": "python3"
  },
  "language_info": {
   "codemirror_mode": {
    "name": "ipython",
    "version": 3
   },
   "file_extension": ".py",
   "mimetype": "text/x-python",
   "name": "python",
   "nbconvert_exporter": "python",
   "pygments_lexer": "ipython3",
   "version": "3.9.13"
  }
 },
 "nbformat": 4,
 "nbformat_minor": 5
}
