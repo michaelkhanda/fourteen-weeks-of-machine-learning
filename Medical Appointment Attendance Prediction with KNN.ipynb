{
 "cells": [
  {
   "cell_type": "markdown",
   "id": "9487a670",
   "metadata": {},
   "source": [
    "# Medical Appointment Attendance Prediction with KNN\n",
    "<style>\n",
    "div.code_cell {\n",
    "    width: 100%;\n",
    "}\n",
    "</style>\n"
   ]
  },
  {
   "cell_type": "markdown",
   "id": "4e12f0cd",
   "metadata": {},
   "source": [
    "Create `K-Nearest Neighbor Models` for the following Dataset:\n",
    "- Download the following dataset (from Kaggle) with 110.527 medical appointments and 14 associated variables (characteristics). Use it to create models that can predict whether a patient will show up for the appointment booked or not.\n",
    "\n",
    "- Here is the [link](https://www.kaggle.com/datasets/joniarroba/noshowappointments) to the dataset.\n"
   ]
  },
  {
   "cell_type": "markdown",
   "id": "e5c89ed6",
   "metadata": {},
   "source": [
    "## Step 1: Import all necessary libraries"
   ]
  },
  {
   "cell_type": "code",
   "execution_count": 1,
   "id": "adb72804",
   "metadata": {},
   "outputs": [],
   "source": [
    "from sklearn.model_selection import train_test_split\n",
    "from sklearn.neighbors import KNeighborsClassifier\n",
    "from sklearn.metrics import accuracy_score, precision_score, recall_score, f1_score\n",
    "from sklearn.preprocessing import LabelEncoder\n",
    "import pandas as pd\n",
    "import matplotlib.pyplot as plt\n",
    "import warnings\n",
    "warnings.simplefilter(action='ignore', category=FutureWarning)"
   ]
  },
  {
   "cell_type": "markdown",
   "id": "db3fafae",
   "metadata": {},
   "source": [
    "## Step 2: Load the Dataset\n",
    "\n",
    "- Read the `KaggleV2-May-2016.csv` file into pandas and assign it to the variable name `medicalAppointmentNoShows`\n",
    "- Use the `DataFrame.info()` and `DataFrame.head()` methods to print information about the `medicalAppointmentNoShows` dataframe as well as the first few rows"
   ]
  },
  {
   "cell_type": "code",
   "execution_count": 2,
   "id": "d6428f8c",
   "metadata": {},
   "outputs": [
    {
     "name": "stdout",
     "output_type": "stream",
     "text": [
      "<class 'pandas.core.frame.DataFrame'>\n",
      "RangeIndex: 110527 entries, 0 to 110526\n",
      "Data columns (total 14 columns):\n",
      " #   Column          Non-Null Count   Dtype  \n",
      "---  ------          --------------   -----  \n",
      " 0   PatientId       110527 non-null  float64\n",
      " 1   AppointmentID   110527 non-null  int64  \n",
      " 2   Gender          110527 non-null  object \n",
      " 3   ScheduledDay    110527 non-null  object \n",
      " 4   AppointmentDay  110527 non-null  object \n",
      " 5   Age             110527 non-null  int64  \n",
      " 6   Neighbourhood   110527 non-null  object \n",
      " 7   Scholarship     110527 non-null  int64  \n",
      " 8   Hipertension    110527 non-null  int64  \n",
      " 9   Diabetes        110527 non-null  int64  \n",
      " 10  Alcoholism      110527 non-null  int64  \n",
      " 11  Handcap         110527 non-null  int64  \n",
      " 12  SMS_received    110527 non-null  int64  \n",
      " 13  No-show         110527 non-null  object \n",
      "dtypes: float64(1), int64(8), object(5)\n",
      "memory usage: 11.8+ MB\n"
     ]
    },
    {
     "data": {
      "text/html": [
       "<div>\n",
       "<style scoped>\n",
       "    .dataframe tbody tr th:only-of-type {\n",
       "        vertical-align: middle;\n",
       "    }\n",
       "\n",
       "    .dataframe tbody tr th {\n",
       "        vertical-align: top;\n",
       "    }\n",
       "\n",
       "    .dataframe thead th {\n",
       "        text-align: right;\n",
       "    }\n",
       "</style>\n",
       "<table border=\"1\" class=\"dataframe\">\n",
       "  <thead>\n",
       "    <tr style=\"text-align: right;\">\n",
       "      <th></th>\n",
       "      <th>PatientId</th>\n",
       "      <th>AppointmentID</th>\n",
       "      <th>Gender</th>\n",
       "      <th>ScheduledDay</th>\n",
       "      <th>AppointmentDay</th>\n",
       "      <th>Age</th>\n",
       "      <th>Neighbourhood</th>\n",
       "      <th>Scholarship</th>\n",
       "      <th>Hipertension</th>\n",
       "      <th>Diabetes</th>\n",
       "      <th>Alcoholism</th>\n",
       "      <th>Handcap</th>\n",
       "      <th>SMS_received</th>\n",
       "      <th>No-show</th>\n",
       "    </tr>\n",
       "  </thead>\n",
       "  <tbody>\n",
       "    <tr>\n",
       "      <th>0</th>\n",
       "      <td>2.987250e+13</td>\n",
       "      <td>5642903</td>\n",
       "      <td>F</td>\n",
       "      <td>2016-04-29T18:38:08Z</td>\n",
       "      <td>2016-04-29T00:00:00Z</td>\n",
       "      <td>62</td>\n",
       "      <td>JARDIM DA PENHA</td>\n",
       "      <td>0</td>\n",
       "      <td>1</td>\n",
       "      <td>0</td>\n",
       "      <td>0</td>\n",
       "      <td>0</td>\n",
       "      <td>0</td>\n",
       "      <td>No</td>\n",
       "    </tr>\n",
       "    <tr>\n",
       "      <th>1</th>\n",
       "      <td>5.589978e+14</td>\n",
       "      <td>5642503</td>\n",
       "      <td>M</td>\n",
       "      <td>2016-04-29T16:08:27Z</td>\n",
       "      <td>2016-04-29T00:00:00Z</td>\n",
       "      <td>56</td>\n",
       "      <td>JARDIM DA PENHA</td>\n",
       "      <td>0</td>\n",
       "      <td>0</td>\n",
       "      <td>0</td>\n",
       "      <td>0</td>\n",
       "      <td>0</td>\n",
       "      <td>0</td>\n",
       "      <td>No</td>\n",
       "    </tr>\n",
       "    <tr>\n",
       "      <th>2</th>\n",
       "      <td>4.262962e+12</td>\n",
       "      <td>5642549</td>\n",
       "      <td>F</td>\n",
       "      <td>2016-04-29T16:19:04Z</td>\n",
       "      <td>2016-04-29T00:00:00Z</td>\n",
       "      <td>62</td>\n",
       "      <td>MATA DA PRAIA</td>\n",
       "      <td>0</td>\n",
       "      <td>0</td>\n",
       "      <td>0</td>\n",
       "      <td>0</td>\n",
       "      <td>0</td>\n",
       "      <td>0</td>\n",
       "      <td>No</td>\n",
       "    </tr>\n",
       "    <tr>\n",
       "      <th>3</th>\n",
       "      <td>8.679512e+11</td>\n",
       "      <td>5642828</td>\n",
       "      <td>F</td>\n",
       "      <td>2016-04-29T17:29:31Z</td>\n",
       "      <td>2016-04-29T00:00:00Z</td>\n",
       "      <td>8</td>\n",
       "      <td>PONTAL DE CAMBURI</td>\n",
       "      <td>0</td>\n",
       "      <td>0</td>\n",
       "      <td>0</td>\n",
       "      <td>0</td>\n",
       "      <td>0</td>\n",
       "      <td>0</td>\n",
       "      <td>No</td>\n",
       "    </tr>\n",
       "    <tr>\n",
       "      <th>4</th>\n",
       "      <td>8.841186e+12</td>\n",
       "      <td>5642494</td>\n",
       "      <td>F</td>\n",
       "      <td>2016-04-29T16:07:23Z</td>\n",
       "      <td>2016-04-29T00:00:00Z</td>\n",
       "      <td>56</td>\n",
       "      <td>JARDIM DA PENHA</td>\n",
       "      <td>0</td>\n",
       "      <td>1</td>\n",
       "      <td>1</td>\n",
       "      <td>0</td>\n",
       "      <td>0</td>\n",
       "      <td>0</td>\n",
       "      <td>No</td>\n",
       "    </tr>\n",
       "  </tbody>\n",
       "</table>\n",
       "</div>"
      ],
      "text/plain": [
       "      PatientId  AppointmentID Gender          ScheduledDay  \\\n",
       "0  2.987250e+13        5642903      F  2016-04-29T18:38:08Z   \n",
       "1  5.589978e+14        5642503      M  2016-04-29T16:08:27Z   \n",
       "2  4.262962e+12        5642549      F  2016-04-29T16:19:04Z   \n",
       "3  8.679512e+11        5642828      F  2016-04-29T17:29:31Z   \n",
       "4  8.841186e+12        5642494      F  2016-04-29T16:07:23Z   \n",
       "\n",
       "         AppointmentDay  Age      Neighbourhood  Scholarship  Hipertension  \\\n",
       "0  2016-04-29T00:00:00Z   62    JARDIM DA PENHA            0             1   \n",
       "1  2016-04-29T00:00:00Z   56    JARDIM DA PENHA            0             0   \n",
       "2  2016-04-29T00:00:00Z   62      MATA DA PRAIA            0             0   \n",
       "3  2016-04-29T00:00:00Z    8  PONTAL DE CAMBURI            0             0   \n",
       "4  2016-04-29T00:00:00Z   56    JARDIM DA PENHA            0             1   \n",
       "\n",
       "   Diabetes  Alcoholism  Handcap  SMS_received No-show  \n",
       "0         0           0        0             0      No  \n",
       "1         0           0        0             0      No  \n",
       "2         0           0        0             0      No  \n",
       "3         0           0        0             0      No  \n",
       "4         1           0        0             0      No  "
      ]
     },
     "execution_count": 2,
     "metadata": {},
     "output_type": "execute_result"
    }
   ],
   "source": [
    "medicalAppointmentNoShows = pd.read_csv(\"KaggleV2-May-2016.csv\")\n",
    "medicalAppointmentNoShows.info()\n",
    "medicalAppointmentNoShows.head()"
   ]
  },
  {
   "cell_type": "markdown",
   "id": "d5bef0fa",
   "metadata": {},
   "source": [
    "## Step 2: Preprocess the Dataset\n",
    "\n",
    "Drop the unnecessary columns.\n",
    "Specify the list of unnecessary columns to drop"
   ]
  },
  {
   "cell_type": "code",
   "execution_count": 3,
   "id": "11b95a2e",
   "metadata": {},
   "outputs": [],
   "source": [
    "# Specify the list of unnecessary columns to drop\n",
    "unnecessary_columns = ['PatientId', 'AppointmentID', 'ScheduledDay', 'AppointmentDay', 'Neighbourhood']\n",
    "\n",
    "# Drop the unnecessary columns from the DataFrame\n",
    "medicalAppointmentNoShows = medicalAppointmentNoShows.drop(unnecessary_columns, axis=1)\n",
    "\n",
    "# Drop rows with missing values\n",
    "medicalAppointmentNoShows = medicalAppointmentNoShows.dropna()\n"
   ]
  },
  {
   "cell_type": "code",
   "execution_count": 4,
   "id": "98a1bbc8",
   "metadata": {},
   "outputs": [
    {
     "data": {
      "text/html": [
       "<div>\n",
       "<style scoped>\n",
       "    .dataframe tbody tr th:only-of-type {\n",
       "        vertical-align: middle;\n",
       "    }\n",
       "\n",
       "    .dataframe tbody tr th {\n",
       "        vertical-align: top;\n",
       "    }\n",
       "\n",
       "    .dataframe thead th {\n",
       "        text-align: right;\n",
       "    }\n",
       "</style>\n",
       "<table border=\"1\" class=\"dataframe\">\n",
       "  <thead>\n",
       "    <tr style=\"text-align: right;\">\n",
       "      <th></th>\n",
       "      <th>Gender</th>\n",
       "      <th>Age</th>\n",
       "      <th>Scholarship</th>\n",
       "      <th>Hipertension</th>\n",
       "      <th>Diabetes</th>\n",
       "      <th>Alcoholism</th>\n",
       "      <th>Handcap</th>\n",
       "      <th>SMS_received</th>\n",
       "      <th>No-show</th>\n",
       "    </tr>\n",
       "  </thead>\n",
       "  <tbody>\n",
       "    <tr>\n",
       "      <th>0</th>\n",
       "      <td>F</td>\n",
       "      <td>62</td>\n",
       "      <td>0</td>\n",
       "      <td>1</td>\n",
       "      <td>0</td>\n",
       "      <td>0</td>\n",
       "      <td>0</td>\n",
       "      <td>0</td>\n",
       "      <td>No</td>\n",
       "    </tr>\n",
       "    <tr>\n",
       "      <th>1</th>\n",
       "      <td>M</td>\n",
       "      <td>56</td>\n",
       "      <td>0</td>\n",
       "      <td>0</td>\n",
       "      <td>0</td>\n",
       "      <td>0</td>\n",
       "      <td>0</td>\n",
       "      <td>0</td>\n",
       "      <td>No</td>\n",
       "    </tr>\n",
       "    <tr>\n",
       "      <th>2</th>\n",
       "      <td>F</td>\n",
       "      <td>62</td>\n",
       "      <td>0</td>\n",
       "      <td>0</td>\n",
       "      <td>0</td>\n",
       "      <td>0</td>\n",
       "      <td>0</td>\n",
       "      <td>0</td>\n",
       "      <td>No</td>\n",
       "    </tr>\n",
       "    <tr>\n",
       "      <th>3</th>\n",
       "      <td>F</td>\n",
       "      <td>8</td>\n",
       "      <td>0</td>\n",
       "      <td>0</td>\n",
       "      <td>0</td>\n",
       "      <td>0</td>\n",
       "      <td>0</td>\n",
       "      <td>0</td>\n",
       "      <td>No</td>\n",
       "    </tr>\n",
       "    <tr>\n",
       "      <th>4</th>\n",
       "      <td>F</td>\n",
       "      <td>56</td>\n",
       "      <td>0</td>\n",
       "      <td>1</td>\n",
       "      <td>1</td>\n",
       "      <td>0</td>\n",
       "      <td>0</td>\n",
       "      <td>0</td>\n",
       "      <td>No</td>\n",
       "    </tr>\n",
       "  </tbody>\n",
       "</table>\n",
       "</div>"
      ],
      "text/plain": [
       "  Gender  Age  Scholarship  Hipertension  Diabetes  Alcoholism  Handcap  \\\n",
       "0      F   62            0             1         0           0        0   \n",
       "1      M   56            0             0         0           0        0   \n",
       "2      F   62            0             0         0           0        0   \n",
       "3      F    8            0             0         0           0        0   \n",
       "4      F   56            0             1         1           0        0   \n",
       "\n",
       "   SMS_received No-show  \n",
       "0             0      No  \n",
       "1             0      No  \n",
       "2             0      No  \n",
       "3             0      No  \n",
       "4             0      No  "
      ]
     },
     "execution_count": 4,
     "metadata": {},
     "output_type": "execute_result"
    }
   ],
   "source": [
    "medicalAppointmentNoShows.head()"
   ]
  },
  {
   "cell_type": "markdown",
   "id": "96f04d3d",
   "metadata": {},
   "source": [
    "###### Encode the categorical target variable\n",
    "The categorical target variable `No-show` is encoded using the LabelEncoder from the `sklearn.preprocessing` module. This step ensures that the target variable is represented as numeric values `(0 and 1)` instead of string labels. "
   ]
  },
  {
   "cell_type": "code",
   "execution_count": 5,
   "id": "c6860733",
   "metadata": {},
   "outputs": [],
   "source": [
    "label_encoder = LabelEncoder()\n",
    "medicalAppointmentNoShows['No-show'] = label_encoder.fit_transform(medicalAppointmentNoShows['No-show'])\n",
    "medicalAppointmentNoShows['Gender'] = label_encoder.fit_transform(medicalAppointmentNoShows['Gender'])"
   ]
  },
  {
   "cell_type": "markdown",
   "id": "8b50d339",
   "metadata": {},
   "source": [
    "## Step 3: Split the Dataset\n",
    "Split the dataset into features (X) and target variable (y)\n",
    "\n",
    "Random Seed `(random_state)`:\n",
    "\n",
    "- The random seed is used to ensure reproducibility. Setting a specific random seed will result in the same train-test split every time you run the code.\n",
    "- If you want consistent results, you can set the random seed to a fixed value, such as 42.\n",
    "- If you don't require consistent results and want a different train-test split each time you run the code, you can omit setting the random seed.\n",
    "\n",
    "Test Size `(test_size)`:\n",
    "\n",
    "- The test size determines the proportion of the dataset that will be allocated for testing. It is typically specified as a float value between 0 and 1, representing the percentage of the dataset to be used for testing.\n",
    "- The choice of test size depends on the size of your dataset and the desired balance between the training and testing sets.\n",
    "- A common practice is to use a test size of around 0.2 to 0.3, meaning 20% to 30% of the data will be used for testing. This leaves the majority of the data for training the model.\n",
    "- If you have a large dataset, you can afford to allocate a smaller test size. Conversely, if you have a small dataset, you might want to allocate a larger test size to ensure a representative evaluation.\n",
    "- It's important to strike a balance between having enough data for training and having enough data for testing to obtain reliable performance metrics.\n"
   ]
  },
  {
   "cell_type": "code",
   "execution_count": 6,
   "id": "0d4bb69f",
   "metadata": {},
   "outputs": [],
   "source": [
    "X = medicalAppointmentNoShows.drop('No-show', axis=1)\n",
    "y = medicalAppointmentNoShows['No-show']\n",
    "X_train, X_test, y_train, y_test = train_test_split(X, y, test_size=0.3, random_state=42)"
   ]
  },
  {
   "cell_type": "markdown",
   "id": "8a8afd25",
   "metadata": {},
   "source": [
    "## Step 4: Train the K-Nearest Neighbors Classifier\n",
    "\n",
    "Create an instance of the KNeighborsClassifier class:\n",
    "- `n_neighbors` is a hyperparameter that determines the number of neighbors to consider for classification. You can choose an appropriate value for `k` based on your problem and dataset. Higher values of `k` smooth out the decision boundaries, while lower values make the model more sensitive to individual data points. Our `k` is `5`.\n",
    "\n",
    "Train the KNN classifier using the `fit()` method:"
   ]
  },
  {
   "cell_type": "code",
   "execution_count": 7,
   "id": "8cc04e83",
   "metadata": {},
   "outputs": [
    {
     "data": {
      "text/plain": [
       "KNeighborsClassifier()"
      ]
     },
     "execution_count": 7,
     "metadata": {},
     "output_type": "execute_result"
    }
   ],
   "source": [
    "knn = KNeighborsClassifier(n_neighbors=5)\n",
    "knn.fit(X_train, y_train)"
   ]
  },
  {
   "cell_type": "markdown",
   "id": "86641fca",
   "metadata": {},
   "source": [
    "## Step 5: Evaluate the K-Nearest Neighbors Classifier"
   ]
  },
  {
   "cell_type": "code",
   "execution_count": 8,
   "id": "75bd4984",
   "metadata": {},
   "outputs": [
    {
     "name": "stdout",
     "output_type": "stream",
     "text": [
      "Predictions:\n",
      "[0 0 0 0 0 0 0 0 0 0]\n",
      "\n",
      "Final test set predictions: [0 0 0 ... 0 0 0]\n",
      "Final test set accuracy: 0.7686600922826382\n"
     ]
    }
   ],
   "source": [
    "# Make predictions on the test set\n",
    "y_pred = knn.predict(X_test)\n",
    "\n",
    "# Print the first few predictions\n",
    "print(\"Predictions:\")\n",
    "print(y_pred[:10])\n",
    "\n",
    "# Evaluate the model\n",
    "accuracy = knn.score(X_test, y_test)\n",
    "\n",
    "print()\n",
    "\n",
    "# Print evaluation metrics\n",
    "print(\"Final test set predictions:\", y_pred)\n",
    "print(\"Final test set accuracy:\", accuracy)\n"
   ]
  },
  {
   "cell_type": "markdown",
   "id": "0cd2207a",
   "metadata": {},
   "source": [
    "## Step 6: Visualize the Dataset\n",
    "\n",
    "This code creates a `bar chart` with two bars: one representing the accuracy of the model and the other representing the prediction for the first instance in the test set. The `accuracy` is shown in `blue`, and the `prediction` is shown in `green`. This simple visualization provides an overview of the model's performance and its prediction for a specific test instance."
   ]
  },
  {
   "cell_type": "code",
   "execution_count": 9,
   "id": "d933b8cd",
   "metadata": {},
   "outputs": [
    {
     "data": {
      "image/png": "[encoded data removed]",
      "text/plain": [
       "<Figure size 800x400 with 1 Axes>"
      ]
     },
     "metadata": {},
     "output_type": "display_data"
    }
   ],
   "source": [
    "# Plot the accuracy and predictions\n",
    "fig, ax = plt.subplots(figsize=(8, 4))\n",
    "ax.bar(['Accuracy'], [accuracy], color='blue')\n",
    "ax.bar(['Prediction'], [y_pred[0]], color='green')\n",
    "ax.set_ylabel('Value')\n",
    "ax.set_title('Model Accuracy and First Prediction')\n",
    "ax.legend(['Accuracy', 'Prediction'])\n",
    "\n",
    "plt.show()"
   ]
  }
 ],
 "metadata": {
  "kernelspec": {
   "display_name": "Python 3 (ipykernel)",
   "language": "python",
   "name": "python3"
  },
  "language_info": {
   "codemirror_mode": {
    "name": "ipython",
    "version": 3
   },
   "file_extension": ".py",
   "mimetype": "text/x-python",
   "name": "python",
   "nbconvert_exporter": "python",
   "pygments_lexer": "ipython3",
   "version": "3.9.13"
  }
 },
 "nbformat": 4,
 "nbformat_minor": 5
}
