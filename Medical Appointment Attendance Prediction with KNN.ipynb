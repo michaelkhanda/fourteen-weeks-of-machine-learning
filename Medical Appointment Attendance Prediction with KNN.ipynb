{
 "cells": [
  {
   "cell_type": "markdown",
   "id": "9487a670",
   "metadata": {},
   "source": [
    "# Medical Appointment Attendance Prediction with KNN\n",
    "<style>\n",
    "div.code_cell {\n",
    "    width: 100%;\n",
    "}\n",
    "</style>\n"
   ]
  },
  {
   "cell_type": "markdown",
   "id": "4e12f0cd",
   "metadata": {},
   "source": [
    "Create `K-Nearest Neighbor Models` for the following Dataset:\n",
    "- Download the following dataset (from Kaggle) with 110.527 medical appointments and 14 associated variables (characteristics). Use it to create models that can predict whether a patient will show up for the appointment booked or not.\n",
    "\n",
    "- Here is the [link](https://www.kaggle.com/datasets/joniarroba/noshowappointments) to the dataset.\n"
   ]
  },
  {
   "cell_type": "markdown",
   "id": "e5c89ed6",
   "metadata": {},
   "source": [
    "## Step 1: Import all necessary libraries"
   ]
  },
  {
   "cell_type": "code",
   "execution_count": null,
   "id": "adb72804",
   "metadata": {},
   "outputs": [],
   "source": [
    "from sklearn.model_selection import train_test_split\n",
    "from sklearn.neighbors import KNeighborsClassifier\n",
    "from sklearn.metrics import accuracy_score, precision_score, recall_score, f1_score\n",
    "from sklearn.preprocessing import LabelEncoder\n",
    "import pandas as pd\n",
    "import matplotlib.pyplot as plt\n",
    "import warnings\n",
    "warnings.simplefilter(action='ignore', category=FutureWarning)"
   ]
  },
  {
   "cell_type": "markdown",
   "id": "db3fafae",
   "metadata": {},
   "source": [
    "## Step 2: Load the Dataset\n",
    "\n",
    "- Read the `KaggleV2-May-2016.csv` file into pandas and assign it to the variable name `medicalAppointmentNoShows`\n",
    "- Use the `DataFrame.info()` and `DataFrame.head()` methods to print information about the `medicalAppointmentNoShows` dataframe as well as the first few rows"
   ]
  },
  {
   "cell_type": "code",
   "execution_count": null,
   "id": "d6428f8c",
   "metadata": {},
   "outputs": [],
   "source": [
    "medicalAppointmentNoShows = pd.read_csv(\"KaggleV2-May-2016.csv\")\n",
    "medicalAppointmentNoShows.info()\n",
    "medicalAppointmentNoShows.head()"
   ]
  },
  {
   "cell_type": "markdown",
   "id": "d5bef0fa",
   "metadata": {},
   "source": [
    "## Step 2: Preprocess the Dataset\n",
    "\n",
    "Drop the unnecessary columns.\n",
    "Specify the list of unnecessary columns to drop"
   ]
  },
  {
   "cell_type": "code",
   "execution_count": null,
   "id": "11b95a2e",
   "metadata": {},
   "outputs": [],
   "source": [
    "# Specify the list of unnecessary columns to drop\n",
    "unnecessary_columns = ['PatientId', 'AppointmentID', 'ScheduledDay', 'AppointmentDay', 'Neighbourhood']\n",
    "\n",
    "# Drop the unnecessary columns from the DataFrame\n",
    "medicalAppointmentNoShows = medicalAppointmentNoShows.drop(unnecessary_columns, axis=1)\n",
    "\n",
    "# Drop rows with missing values\n",
    "medicalAppointmentNoShows = medicalAppointmentNoShows.dropna()\n"
   ]
  },
  {
   "cell_type": "code",
   "execution_count": null,
   "id": "98a1bbc8",
   "metadata": {},
   "outputs": [],
   "source": [
    "medicalAppointmentNoShows.head()"
   ]
  },
  {
   "cell_type": "markdown",
   "id": "96f04d3d",
   "metadata": {},
   "source": [
    "###### Encode the categorical target variable\n",
    "The categorical target variable `No-show` is encoded using the LabelEncoder from the `sklearn.preprocessing` module. This step ensures that the target variable is represented as numeric values `(0 and 1)` instead of string labels. "
   ]
  },
  {
   "cell_type": "code",
   "execution_count": null,
   "id": "c6860733",
   "metadata": {},
   "outputs": [],
   "source": [
    "label_encoder = LabelEncoder()\n",
    "medicalAppointmentNoShows['No-show'] = label_encoder.fit_transform(medicalAppointmentNoShows['No-show'])\n",
    "medicalAppointmentNoShows['Gender'] = label_encoder.fit_transform(medicalAppointmentNoShows['Gender'])"
   ]
  },
  {
   "cell_type": "markdown",
   "id": "8b50d339",
   "metadata": {},
   "source": [
    "## Step 3: Split the Dataset\n",
    "Split the dataset into features (X) and target variable (y)\n",
    "\n",
    "Random Seed `(random_state)`:\n",
    "\n",
    "- The random seed is used to ensure reproducibility. Setting a specific random seed will result in the same train-test split every time you run the code.\n",
    "- If you want consistent results, you can set the random seed to a fixed value, such as 42.\n",
    "- If you don't require consistent results and want a different train-test split each time you run the code, you can omit setting the random seed.\n",
    "\n",
    "Test Size `(test_size)`:\n",
    "\n",
    "- The test size determines the proportion of the dataset that will be allocated for testing. It is typically specified as a float value between 0 and 1, representing the percentage of the dataset to be used for testing.\n",
    "- The choice of test size depends on the size of your dataset and the desired balance between the training and testing sets.\n",
    "- A common practice is to use a test size of around 0.2 to 0.3, meaning 20% to 30% of the data will be used for testing. This leaves the majority of the data for training the model.\n",
    "- If you have a large dataset, you can afford to allocate a smaller test size. Conversely, if you have a small dataset, you might want to allocate a larger test size to ensure a representative evaluation.\n",
    "- It's important to strike a balance between having enough data for training and having enough data for testing to obtain reliable performance metrics.\n"
   ]
  },
  {
   "cell_type": "code",
   "execution_count": null,
   "id": "0d4bb69f",
   "metadata": {},
   "outputs": [],
   "source": [
    "X = medicalAppointmentNoShows.drop('No-show', axis=1)\n",
    "y = medicalAppointmentNoShows['No-show']\n",
    "X_train, X_test, y_train, y_test = train_test_split(X, y, test_size=0.3, random_state=42)"
   ]
  },
  {
   "cell_type": "markdown",
   "id": "8a8afd25",
   "metadata": {},
   "source": [
    "## Step 4: Train the K-Nearest Neighbors Classifier\n",
    "\n",
    "Create an instance of the KNeighborsClassifier class:\n",
    "- `n_neighbors` is a hyperparameter that determines the number of neighbors to consider for classification. You can choose an appropriate value for `k` based on your problem and dataset. Higher values of `k` smooth out the decision boundaries, while lower values make the model more sensitive to individual data points. Our `k` is `5`.\n",
    "\n",
    "Train the KNN classifier using the `fit()` method:"
   ]
  },
  {
   "cell_type": "code",
   "execution_count": null,
   "id": "8cc04e83",
   "metadata": {},
   "outputs": [],
   "source": [
    "knn = KNeighborsClassifier(n_neighbors=5)\n",
    "knn.fit(X_train, y_train)"
   ]
  },
  {
   "cell_type": "markdown",
   "id": "86641fca",
   "metadata": {},
   "source": [
    "## Step 5: Evaluate the K-Nearest Neighbors Classifier"
   ]
  },
  {
   "cell_type": "code",
   "execution_count": null,
   "id": "75bd4984",
   "metadata": {},
   "outputs": [],
   "source": [
    "# Make predictions on the test set\n",
    "y_pred = knn.predict(X_test)\n",
    "\n",
    "# Print the first few predictions\n",
    "print(\"Predictions:\")\n",
    "print(y_pred[:10])\n",
    "\n",
    "# Evaluate the model\n",
    "accuracy = knn.score(X_test, y_test)\n",
    "\n",
    "print()\n",
    "\n",
    "# Print evaluation metrics\n",
    "print(\"Final test set predictions:\", y_pred)\n",
    "print(\"Final test set accuracy:\", accuracy)\n"
   ]
  },
  {
   "cell_type": "markdown",
   "id": "0cd2207a",
   "metadata": {},
   "source": [
    "## Step 6: Visualize the Dataset\n",
    "\n",
    "This code creates a `bar chart` with two bars: one representing the accuracy of the model and the other representing the prediction for the first instance in the test set. The `accuracy` is shown in `blue`, and the `prediction` is shown in `green`. This simple visualization provides an overview of the model's performance and its prediction for a specific test instance."
   ]
  },
  {
   "cell_type": "code",
   "execution_count": null,
   "id": "d933b8cd",
   "metadata": {},
   "outputs": [],
   "source": [
    "# Plot the accuracy and predictions\n",
    "fig, ax = plt.subplots(figsize=(8, 4))\n",
    "ax.bar(['Accuracy'], [accuracy], color='blue')\n",
    "ax.bar(['Prediction'], [y_pred[0]], color='green')\n",
    "ax.set_ylabel('Value')\n",
    "ax.set_title('Model Accuracy and First Prediction')\n",
    "ax.legend(['Accuracy', 'Prediction'])\n",
    "\n",
    "plt.show()"
   ]
  }
 ],
 "metadata": {
  "kernelspec": {
   "display_name": "Python 3 (ipykernel)",
   "language": "python",
   "name": "python3"
  },
  "language_info": {
   "codemirror_mode": {
    "name": "ipython",
    "version": 3
   },
   "file_extension": ".py",
   "mimetype": "text/x-python",
   "name": "python",
   "nbconvert_exporter": "python",
   "pygments_lexer": "ipython3",
   "version": "3.9.13"
  }
 },
 "nbformat": 4,
 "nbformat_minor": 5
}
