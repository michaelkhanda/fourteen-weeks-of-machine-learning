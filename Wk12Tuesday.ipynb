{
 "cells": [
  {
   "cell_type": "code",
   "execution_count": 2,
   "id": "317ac911",
   "metadata": {},
   "outputs": [
    {
     "name": "stdout",
     "output_type": "stream",
     "text": [
      "Accuracy on training set 0.9272300469483568\n",
      "Accuracy on testing set 0.9300699300699301\n"
     ]
    }
   ],
   "source": [
    "#MLP on Breast Cancer Dataset\n",
    "from sklearn.model_selection import train_test_split\n",
    "from sklearn.datasets import load_breast_cancer\n",
    "from sklearn.neural_network import MLPClassifier\n",
    "\n",
    "cancer = load_breast_cancer()\n",
    "X_train, X_test, y_train, y_test = train_test_split(cancer.data, cancer.target, random_state=0)\n",
    "\n",
    "model = MLPClassifier(random_state=0)\n",
    "model.fit(X_train, y_train)\n",
    "\n",
    "print(\"Accuracy on training set\", model.score(X_train, y_train))\n",
    "print(\"Accuracy on testing set\", model.score(X_test, y_test))"
   ]
  },
  {
   "cell_type": "code",
   "execution_count": 4,
   "id": "68d66008",
   "metadata": {},
   "outputs": [
    {
     "name": "stdout",
     "output_type": "stream",
     "text": [
      "Accuracy on training set 0.92018779342723\n",
      "Accuracy on testing set 0.8951048951048951\n"
     ]
    }
   ],
   "source": [
    "model = MLPClassifier(random_state=0, hidden_layer_sizes=[50])\n",
    "model.fit(X_train, y_train)\n",
    "\n",
    "print(\"Accuracy on training set\", model.score(X_train, y_train))\n",
    "print(\"Accuracy on testing set\", model.score(X_test, y_test))"
   ]
  },
  {
   "cell_type": "code",
   "execution_count": 5,
   "id": "63a12a4c",
   "metadata": {},
   "outputs": [
    {
     "name": "stdout",
     "output_type": "stream",
     "text": [
      "Accuracy on training set 0.9131455399061033\n",
      "Accuracy on testing set 0.9020979020979021\n"
     ]
    }
   ],
   "source": [
    "model = MLPClassifier(random_state=0, hidden_layer_sizes=[50,100])\n",
    "model.fit(X_train, y_train)\n",
    "\n",
    "print(\"Accuracy on training set\", model.score(X_train, y_train))\n",
    "print(\"Accuracy on testing set\", model.score(X_test, y_test))"
   ]
  },
  {
   "cell_type": "code",
   "execution_count": 6,
   "id": "80af4af6",
   "metadata": {},
   "outputs": [
    {
     "name": "stdout",
     "output_type": "stream",
     "text": [
      "Accuracy on training set 0.9225352112676056\n",
      "Accuracy on testing set 0.916083916083916\n"
     ]
    }
   ],
   "source": [
    "model = MLPClassifier(random_state=0, hidden_layer_sizes=[50,100], activation=\"tanh\")\n",
    "model.fit(X_train, y_train)\n",
    "\n",
    "print(\"Accuracy on training set\", model.score(X_train, y_train))\n",
    "print(\"Accuracy on testing set\", model.score(X_test, y_test))"
   ]
  },
  {
   "cell_type": "code",
   "execution_count": null,
   "id": "9885029e",
   "metadata": {},
   "outputs": [],
   "source": []
  }
 ],
 "metadata": {
  "kernelspec": {
   "display_name": "Python 3 (ipykernel)",
   "language": "python",
   "name": "python3"
  },
  "language_info": {
   "codemirror_mode": {
    "name": "ipython",
    "version": 3
   },
   "file_extension": ".py",
   "mimetype": "text/x-python",
   "name": "python",
   "nbconvert_exporter": "python",
   "pygments_lexer": "ipython3",
   "version": "3.9.13"
  }
 },
 "nbformat": 4,
 "nbformat_minor": 5
}
