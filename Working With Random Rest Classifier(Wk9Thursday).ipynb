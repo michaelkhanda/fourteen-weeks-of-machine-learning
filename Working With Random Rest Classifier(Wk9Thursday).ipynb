{
 "cells": [
  {
   "cell_type": "code",
   "execution_count": 1,
   "id": "8f80cb6c",
   "metadata": {},
   "outputs": [
    {
     "name": "stdout",
     "output_type": "stream",
     "text": [
      "The training set accuracy: 1.00\n",
      "The testing set accuracy: 0.96\n"
     ]
    }
   ],
   "source": [
    "from sklearn.datasets import load_breast_cancer\n",
    "from sklearn.model_selection import train_test_split\n",
    "from sklearn.ensemble import RandomForestClassifier\n",
    "\n",
    "cancer = load_breast_cancer()\n",
    "\n",
    "X_train, X_test, y_train, y_test = train_test_split(cancer.data, cancer.target, stratify=cancer.target, random_state=42)\n",
    "\n",
    "model = RandomForestClassifier(n_estimators=100, random_state=0)\n",
    "model.fit(X_train, y_train)\n",
    "\n",
    "print(\"The training set accuracy: {:.2f}\".format(model.score(X_train, y_train)))\n",
    "print(\"The testing set accuracy: {:.2f}\".format(model.score(X_test,y_test)))"
   ]
  },
  {
   "cell_type": "code",
   "execution_count": 2,
   "id": "5cdec03b",
   "metadata": {},
   "outputs": [
    {
     "name": "stdout",
     "output_type": "stream",
     "text": [
      "The training set accuracy: 0.99\n",
      "The testing set accuracy: 0.96\n"
     ]
    }
   ],
   "source": [
    "model2 = RandomForestClassifier(max_features=15, max_depth=4, n_estimators=100, random_state=0)\n",
    "model2.fit(X_train, y_train)\n",
    "\n",
    "print(\"The training set accuracy: {:.2f}\".format(model2.score(X_train, y_train)))\n",
    "print(\"The testing set accuracy: {:.2f}\".format(model2.score(X_test,y_test)))"
   ]
  }
 ],
 "metadata": {
  "kernelspec": {
   "display_name": "Python 3 (ipykernel)",
   "language": "python",
   "name": "python3"
  },
  "language_info": {
   "codemirror_mode": {
    "name": "ipython",
    "version": 3
   },
   "file_extension": ".py",
   "mimetype": "text/x-python",
   "name": "python",
   "nbconvert_exporter": "python",
   "pygments_lexer": "ipython3",
   "version": "3.9.13"
  }
 },
 "nbformat": 4,
 "nbformat_minor": 5
}
